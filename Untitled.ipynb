{
 "cells": [
  {
   "cell_type": "code",
   "execution_count": 1,
   "metadata": {},
   "outputs": [
    {
     "name": "stdout",
     "output_type": "stream",
     "text": [
      "\n",
      "\n",
      "Copia tutto quello che c'è tra le linee\n",
      "\n",
      "--------------------------\n",
      "\\begin{tabular}{cc}\n",
      "\t\\hline\n",
      "\t% Qua mettici il titolo, ricordati di mettere le \\\\ alla fine % \n",
      "\t\\hline\n",
      "\t$1.00 \\pm 0.01$ & $5.00 \\pm 0.05$ \\\\\n",
      "\t$1.11 \\pm 0.01$ & $5.56 \\pm 0.06$ \\\\\n",
      "\t$1.22 \\pm 0.01$ & $6.11 \\pm 0.06$ \\\\\n",
      "\t$1.33 \\pm 0.01$ & $6.67 \\pm 0.07$ \\\\\n",
      "\t$1.44 \\pm 0.01$ & $7.22 \\pm 0.07$ \\\\\n",
      "\t$1.56 \\pm 0.02$ & $7.78 \\pm 0.08$ \\\\\n",
      "\t$1.67 \\pm 0.02$ & $8.33 \\pm 0.08$ \\\\\n",
      "\t$1.78 \\pm 0.02$ & $8.89 \\pm 0.09$ \\\\\n",
      "\t$1.89 \\pm 0.02$ & $9.44 \\pm 0.09$ \\\\\n",
      "\t$2.00 \\pm 0.02$ & $(1.00 \\pm 0.01) \\times 10^{1}$ \\\\\n",
      "\t\\hline\n",
      "\\end{tabular}\n",
      "\n",
      "--------------------------\n",
      "\n",
      "\n"
     ]
    }
   ],
   "source": [
    "import texpy as tp\n",
    "import numpy as np\n",
    "x = np.linspace(1, 2, 10) # Genero dei dati\n",
    "y = 5*x\n",
    "dx, dy = x*0.01, y*0.01 # Suppongo che l'errore sia l'1% della misura\n",
    "misure = [x, y] # Creo la matrice con i valori\n",
    "errori_misure = [dx, dy] # Creo la matrice con gli errori\n",
    "tab = tp.ne(misure, errori_misure) # Crea una matrice del tipo misura +- errore come spiegato sotto\n",
    "tp.mat(tab) # Stampa la matrice, ovvero la tabella in latex"
   ]
  },
  {
   "cell_type": "code",
   "execution_count": 37,
   "metadata": {},
   "outputs": [
    {
     "data": {
      "text/plain": [
       "array('$45.890$kF', dtype='<U10')"
      ]
     },
     "execution_count": 37,
     "metadata": {},
     "output_type": "execute_result"
    }
   ],
   "source": [
    "tp.ns(45890, 1005, 3, unit=\"F\")"
   ]
  }
 ],
 "metadata": {
  "kernelspec": {
   "display_name": "Python 3",
   "language": "python",
   "name": "python3"
  },
  "language_info": {
   "codemirror_mode": {
    "name": "ipython",
    "version": 3
   },
   "file_extension": ".py",
   "mimetype": "text/x-python",
   "name": "python",
   "nbconvert_exporter": "python",
   "pygments_lexer": "ipython3",
   "version": "3.7.3"
  },
  "varInspector": {
   "cols": {
    "lenName": 16,
    "lenType": 16,
    "lenVar": 40
   },
   "kernels_config": {
    "python": {
     "delete_cmd_postfix": "",
     "delete_cmd_prefix": "del ",
     "library": "var_list.py",
     "varRefreshCmd": "print(var_dic_list())"
    },
    "r": {
     "delete_cmd_postfix": ") ",
     "delete_cmd_prefix": "rm(",
     "library": "var_list.r",
     "varRefreshCmd": "cat(var_dic_list()) "
    }
   },
   "types_to_exclude": [
    "module",
    "function",
    "builtin_function_or_method",
    "instance",
    "_Feature"
   ],
   "window_display": false
  }
 },
 "nbformat": 4,
 "nbformat_minor": 2
}
